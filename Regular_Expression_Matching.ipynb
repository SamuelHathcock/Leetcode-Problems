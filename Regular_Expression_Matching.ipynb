{
 "cells": [
  {
   "cell_type": "code",
   "execution_count": 5,
   "metadata": {},
   "outputs": [
    {
     "data": {
      "text/plain": [
       "'3'"
      ]
     },
     "execution_count": 5,
     "metadata": {},
     "output_type": "execute_result"
    }
   ],
   "source": [
    "    \"\"\"\n",
    "    :type s: str\n",
    "    :type p: str\n",
    "    :rtype: bool\n",
    "    \"\"\"\n",
    "    dict = {}\n",
    "    dict.update({'c': '3'})\n",
    "    dict.get('c')"
   ]
  },
  {
   "cell_type": "code",
   "execution_count": 17,
   "metadata": {},
   "outputs": [
    {
     "ename": "SyntaxError",
     "evalue": "EOL while scanning string literal (<ipython-input-17-3e11cc23af3d>, line 27)",
     "output_type": "error",
     "traceback": [
      "\u001b[0;36m  File \u001b[0;32m\"<ipython-input-17-3e11cc23af3d>\"\u001b[0;36m, line \u001b[0;32m27\u001b[0m\n\u001b[0;31m    \"\"\"\"\u001b[0m\n\u001b[0m        \n^\u001b[0m\n\u001b[0;31mSyntaxError\u001b[0m\u001b[0;31m:\u001b[0m EOL while scanning string literal\n"
     ]
    }
   ],
   "source": [
    "    \"\"\"\"\n",
    "    problem can be solved via seperation into 2 sections\n",
    "    1. Letter Compatability: Deduce if (s,p)==True is possible (i.e. no incompatible letters).\n",
    "        Ex: (\"abc\",\"ab\")==False, p is missing 'c'.\n",
    "        Ex2: (\"abc\", \"abcd\")==False, s is missing a 'd'.\n",
    "        Ex2': (\"a*b*\", \"a*b*c*\")==True, the 'c' in p is a 'c*', which can equal '', i.e erased.\n",
    "        Ex3: (\"abcd\", \"abdc\") s and p are letter compatable, but as we will see fails\n",
    "        the second test...\n",
    "    2. Order Compatability: If possible, deduce if the ordering is correct.\n",
    "        Ex: (\"accc\", \"c*a*\")==False , both have compatible letters(a & c*), but are in the\n",
    "        wrong order\n",
    "    \"\"\"\""
   ]
  },
  {
   "cell_type": "code",
   "execution_count": 21,
   "metadata": {},
   "outputs": [
    {
     "data": {
      "text/plain": [
       "False"
      ]
     },
     "execution_count": 21,
     "metadata": {},
     "output_type": "execute_result"
    }
   ],
   "source": [
    "def match(text, pattern):\n",
    "    if not pattern: return not text\n",
    "    #first_match = bool(text) and pattern[0] in {text[0], '.'}\n",
    "    #return first_match and match(text[1:], pattern[1:])\n",
    "\n",
    "match('abcde', 'abcde')\n",
    "\n",
    "not'False'"
   ]
  },
  {
   "cell_type": "code",
   "execution_count": 10,
   "metadata": {},
   "outputs": [
    {
     "data": {
      "text/plain": [
       "['.', 'a', '*a', 'b', '*b', 'c', '*c', '.']"
      ]
     },
     "execution_count": 10,
     "metadata": {},
     "output_type": "execute_result"
    }
   ],
   "source": [
    "def listify(p: str):\n",
    "    p_p = []\n",
    "    for i in range(0, len(p)):\n",
    "        if(p[i] != '.') and (p[i] != '*'):\n",
    "            p_p.append(p[i])\n",
    "        elif(p[i]=='*'):\n",
    "            p_p.append(p[i]+p[i - 1])\n",
    "        elif(p[i]=='.'):\n",
    "            p_p.append('.')\n",
    "    return p_p        \n",
    "listify('.a*b*c*.')"
   ]
  },
  {
   "cell_type": "code",
   "execution_count": 12,
   "metadata": {},
   "outputs": [
    {
     "ename": "IndentationError",
     "evalue": "expected an indented block (<ipython-input-12-1dcbe05e2d77>, line 26)",
     "output_type": "error",
     "traceback": [
      "\u001b[0;36m  File \u001b[0;32m\"<ipython-input-12-1dcbe05e2d77>\"\u001b[0;36m, line \u001b[0;32m26\u001b[0m\n\u001b[0;31m    list(s)\u001b[0m\n\u001b[0m    ^\u001b[0m\n\u001b[0;31mIndentationError\u001b[0m\u001b[0;31m:\u001b[0m expected an indented block\n"
     ]
    }
   ],
   "source": [
    "def isMatch(s: str, p: str):\n",
    "    if(p[0]+p[1]=='.*'):\n",
    "        return True\n",
    "    \n",
    "    #turn p into better format\n",
    "    newP = listify(p)\n",
    "    \n",
    "    star = False # used to denote if \n",
    "    starChar = ''\n",
    "    \n",
    "    \n",
    "    for i in range(0, len(s)):\n",
    "        for j in range(0, len(s)):\n",
    "            if (s[i]==p[j]) or (p[j]=='.'):\n",
    "                star = False\n",
    "                continue\n",
    "            elif(star==True) and (starChar == s[i]):\n",
    "                \n",
    "                \n",
    "    \n",
    "    #Turn s and p into list (with )\n",
    "    list(s)\n",
    "    \n",
    "    "
   ]
  },
  {
   "cell_type": "code",
   "execution_count": 6,
   "metadata": {},
   "outputs": [
    {
     "data": {
      "text/plain": [
       "['*.', '.', 'a', '*a', 'b', '*b', 'c', '*c', '.']"
      ]
     },
     "execution_count": 6,
     "metadata": {},
     "output_type": "execute_result"
    }
   ],
   "source": [
    "p = '.a*b*c*.'\n",
    "p_p = []\n",
    "for i in range(0, len(p)):\n",
    "    if(p[i] != '.') and (p[i] != '*'):\n",
    "        p_p.append(p[i])\n",
    "    elif(p[i]=='*'):\n",
    "        p_p.append(p[i]+p[i - 1])\n",
    "    elif(p[i]=='.'):\n",
    "        p_p.append('.')\n",
    "\n",
    "p_p       \n",
    "        \n"
   ]
  },
  {
   "cell_type": "code",
   "execution_count": 34,
   "metadata": {},
   "outputs": [
    {
     "ename": "TypeError",
     "evalue": "bad operand type for unary -: 'str'",
     "output_type": "error",
     "traceback": [
      "\u001b[0;31m---------------------------------------------------------------------------\u001b[0m",
      "\u001b[0;31mTypeError\u001b[0m                                 Traceback (most recent call last)",
      "\u001b[0;32m<ipython-input-34-1a004bda6398>\u001b[0m in \u001b[0;36m<module>\u001b[0;34m\u001b[0m\n\u001b[1;32m      7\u001b[0m     \u001b[0;32mreturn\u001b[0m \u001b[0mres\u001b[0m\u001b[0;34m\u001b[0m\u001b[0;34m\u001b[0m\u001b[0m\n\u001b[1;32m      8\u001b[0m \u001b[0;34m\u001b[0m\u001b[0m\n\u001b[0;32m----> 9\u001b[0;31m \u001b[0mfinditer\u001b[0m\u001b[0;34m(\u001b[0m\u001b[0;34m'abcdef'\u001b[0m\u001b[0;34m,\u001b[0m \u001b[0;34m'abc'\u001b[0m\u001b[0;34m)\u001b[0m\u001b[0;34m\u001b[0m\u001b[0;34m\u001b[0m\u001b[0m\n\u001b[0m\u001b[1;32m     10\u001b[0m \u001b[0;34m\u001b[0m\u001b[0m\n\u001b[1;32m     11\u001b[0m \u001b[0mp\u001b[0m \u001b[0;34m=\u001b[0m \u001b[0;34m'abc'\u001b[0m\u001b[0;34m\u001b[0m\u001b[0;34m\u001b[0m\u001b[0m\n",
      "\u001b[0;32m<ipython-input-34-1a004bda6398>\u001b[0m in \u001b[0;36mfinditer\u001b[0;34m(s, p)\u001b[0m\n\u001b[1;32m      3\u001b[0m     \u001b[0mres\u001b[0m \u001b[0;34m=\u001b[0m \u001b[0;36m0\u001b[0m\u001b[0;34m\u001b[0m\u001b[0;34m\u001b[0m\u001b[0m\n\u001b[1;32m      4\u001b[0m     \u001b[0;32mfor\u001b[0m \u001b[0mi\u001b[0m \u001b[0;32min\u001b[0m \u001b[0mrange\u001b[0m \u001b[0;34m(\u001b[0m\u001b[0mlen\u001b[0m\u001b[0;34m(\u001b[0m\u001b[0mp\u001b[0m\u001b[0;34m)\u001b[0m\u001b[0;34m,\u001b[0m \u001b[0mlen\u001b[0m\u001b[0;34m(\u001b[0m\u001b[0ms\u001b[0m\u001b[0;34m)\u001b[0m\u001b[0;34m)\u001b[0m\u001b[0;34m:\u001b[0m\u001b[0;34m\u001b[0m\u001b[0;34m\u001b[0m\u001b[0m\n\u001b[0;32m----> 5\u001b[0;31m         \u001b[0;32mif\u001b[0m \u001b[0ms\u001b[0m\u001b[0;34m[\u001b[0m\u001b[0mi\u001b[0m\u001b[0;34m:\u001b[0m\u001b[0;34m:\u001b[0m\u001b[0;36m1\u001b[0m \u001b[0;34m-\u001b[0m \u001b[0mlen\u001b[0m\u001b[0;34m(\u001b[0m\u001b[0mp\u001b[0m\u001b[0;34m)\u001b[0m\u001b[0;34m]\u001b[0m \u001b[0;34m==\u001b[0m \u001b[0;34m-\u001b[0m\u001b[0mp\u001b[0m\u001b[0;34m:\u001b[0m\u001b[0;34m\u001b[0m\u001b[0;34m\u001b[0m\u001b[0m\n\u001b[0m\u001b[1;32m      6\u001b[0m             \u001b[0mres\u001b[0m \u001b[0;34m+=\u001b[0m \u001b[0;36m1\u001b[0m\u001b[0;34m\u001b[0m\u001b[0;34m\u001b[0m\u001b[0m\n\u001b[1;32m      7\u001b[0m     \u001b[0;32mreturn\u001b[0m \u001b[0mres\u001b[0m\u001b[0;34m\u001b[0m\u001b[0;34m\u001b[0m\u001b[0m\n",
      "\u001b[0;31mTypeError\u001b[0m: bad operand type for unary -: 'str'"
     ]
    }
   ],
   "source": [
    "def finditer(s:str, p:str):\n",
    "    p[-1]\n",
    "    res = 0\n",
    "    for i in range (len(p), len(s)):\n",
    "        if s[i::1 - len(p)] == p:\n",
    "            res += 1\n",
    "    return res\n",
    "\n",
    "finditer('abcdef', 'abc')\n",
    "\n",
    "p = 'abc'\n",
    "p[-1]"
   ]
  }
 ],
 "metadata": {
  "kernelspec": {
   "display_name": "Python 3",
   "language": "python",
   "name": "python3"
  },
  "language_info": {
   "codemirror_mode": {
    "name": "ipython",
    "version": 3
   },
   "file_extension": ".py",
   "mimetype": "text/x-python",
   "name": "python",
   "nbconvert_exporter": "python",
   "pygments_lexer": "ipython3",
   "version": "3.8.5"
  }
 },
 "nbformat": 4,
 "nbformat_minor": 4
}
